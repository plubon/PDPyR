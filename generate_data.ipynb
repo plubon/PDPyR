{
 "cells": [
  {
   "cell_type": "code",
   "execution_count": 33,
   "metadata": {},
   "outputs": [],
   "source": [
    "import pandas as pd\n",
    "from os import listdir\n",
    "from os.path import isfile, join\n",
    "import sklearn.metrics as metrics\n",
    "from genie import genie\n",
    "from scipy.cluster.hierarchy import linkage, cut_tree\n",
    "from sklearn.cluster import KMeans, SpectralClustering, Birch"
   ]
  },
  {
   "cell_type": "code",
   "execution_count": 34,
   "metadata": {},
   "outputs": [],
   "source": [
    "path = 'data/01FCPSdata'\n",
    "files = [f for f in listdir(path) if isfile(join(path, f))]"
   ]
  },
  {
   "cell_type": "code",
   "execution_count": 35,
   "metadata": {},
   "outputs": [],
   "source": [
    "dataset_names = [f.split('.')[0] for f in files if f.endswith('.lrn')]"
   ]
  },
  {
   "cell_type": "code",
   "execution_count": null,
   "metadata": {},
   "outputs": [
    {
     "name": "stdout",
     "output_type": "stream",
     "text": [
      "Hepta\n",
      "Atom\n"
     ]
    },
    {
     "name": "stderr",
     "output_type": "stream",
     "text": [
      "/usr/local/lib/python3.5/dist-packages/sklearn/manifold/spectral_embedding_.py:234: UserWarning: Graph is not fully connected, spectral embedding may not work as expected.\n",
      "  warnings.warn(\"Graph is not fully connected, spectral embedding\"\n"
     ]
    },
    {
     "name": "stdout",
     "output_type": "stream",
     "text": [
      "WingNut\n",
      "TwoDiamonds\n",
      "Lsun\n",
      "EngyTime\n"
     ]
    }
   ],
   "source": [
    "for ds_name in dataset_names:\n",
    "    print(ds_name)\n",
    "    results = []\n",
    "    data = pd.read_csv(join(path, ds_name+'.lrn'), sep='\\t', comment='%', header=None, index_col=0)\n",
    "    data = data.values\n",
    "    labels = pd.read_csv(join(path, ds_name+'.cls'), sep='\\t', comment='%', header=None, index_col=0)\n",
    "    k = len(labels.iloc[:,0].unique())\n",
    "    labels = labels.values.flatten()\n",
    "    best_FM = 0\n",
    "    best_FM_g = 0\n",
    "    best_AMI = 0\n",
    "    best_AMI_g = 0\n",
    "    best_Rand = 0\n",
    "    best_Rand_g = 0\n",
    "    for g in [x / 10 for x in range(1, 11)]:\n",
    "        res = genie(data, g, k)\n",
    "        fm = metrics.fowlkes_mallows_score(labels, res)\n",
    "        if(fm > best_FM):\n",
    "            best_FM = fm\n",
    "            best_FM_g = g\n",
    "        ami = metrics.adjusted_mutual_info_score(labels, res)\n",
    "        if(ami > best_AMI):\n",
    "            best_AMI = ami\n",
    "            best_AMI_g = g\n",
    "        rand = metrics.adjusted_rand_score(labels, res)\n",
    "        if(rand > best_Rand):\n",
    "            best_Rand = rand\n",
    "            best_Rand_g = g\n",
    "    results.append(('genie', best_FM, best_AMI, best_Rand, best_FM_g, best_AMI_g, best_Rand_g))\n",
    "    for method in ['single', 'complete', 'average', 'weighted', 'centroid', 'median', 'ward']:\n",
    "        res = cut_tree(linkage(data, method), n_clusters=k).flatten()\n",
    "        results.append((method, metrics.fowlkes_mallows_score(labels, res), metrics.adjusted_mutual_info_score(labels, res), \n",
    "                       metrics.adjusted_rand_score(labels, res), None, None, None))\n",
    "    kmeans = KMeans(n_clusters=k).fit(data)\n",
    "    res = kmeans.labels_\n",
    "    results.append(('kmeans', metrics.fowlkes_mallows_score(labels, res), metrics.adjusted_mutual_info_score(labels, res), \n",
    "                       metrics.adjusted_rand_score(labels, res), None, None, None))\n",
    "    spectral = SpectralClustering(n_clusters=k).fit(data)\n",
    "    res = spectral.labels_\n",
    "    results.append(('spectral', metrics.fowlkes_mallows_score(labels, res), metrics.adjusted_mutual_info_score(labels, res), \n",
    "                       metrics.adjusted_rand_score(labels, res), None, None, None))\n",
    "    brc = Birch(branching_factor=50, n_clusters=k, threshold=0.5, compute_labels=True).fit(data)\n",
    "    res = brc.labels_\n",
    "    results.append(('birch', metrics.fowlkes_mallows_score(labels, res), metrics.adjusted_mutual_info_score(labels, res), \n",
    "                       metrics.adjusted_rand_score(labels, res), None, None, None))\n",
    "    df = pd.DataFrame(results)\n",
    "    df.to_csv(ds_name+'.csv')    "
   ]
  },
  {
   "cell_type": "code",
   "execution_count": null,
   "metadata": {},
   "outputs": [],
   "source": []
  }
 ],
 "metadata": {
  "kernelspec": {
   "display_name": "Python 3",
   "language": "python",
   "name": "python3"
  },
  "language_info": {
   "codemirror_mode": {
    "name": "ipython",
    "version": 3
   },
   "file_extension": ".py",
   "mimetype": "text/x-python",
   "name": "python",
   "nbconvert_exporter": "python",
   "pygments_lexer": "ipython3",
   "version": "3.5.2"
  }
 },
 "nbformat": 4,
 "nbformat_minor": 2
}
