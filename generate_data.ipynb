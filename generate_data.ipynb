{
 "cells": [
  {
   "cell_type": "code",
   "execution_count": 1,
   "metadata": {},
   "outputs": [],
   "source": [
    "import pandas as pd\n",
    "from os import listdir\n",
    "from os.path import isfile, join\n",
    "import sklearn.metrics as metrics\n",
    "from genie import genie\n",
    "from scipy.cluster.hierarchy import linkage, cut_tree\n",
    "from sklearn.cluster import KMeans, SpectralClustering, Birch"
   ]
  },
  {
   "cell_type": "code",
   "execution_count": 2,
   "metadata": {},
   "outputs": [],
   "source": [
    "path = 'data/01FCPSdata'\n",
    "files = [f for f in listdir(path) if isfile(join(path, f))]"
   ]
  },
  {
   "cell_type": "code",
   "execution_count": 3,
   "metadata": {},
   "outputs": [],
   "source": [
    "dataset_names = [f.split('.')[0] for f in files if f.endswith('.lrn')]"
   ]
  },
  {
   "cell_type": "code",
   "execution_count": 23,
   "metadata": {},
   "outputs": [
    {
     "name": "stdout",
     "output_type": "stream",
     "text": [
      "Chainlink\n",
      "0.1\n",
      "0.8593047999472151\n",
      "0.6727075755798557\n",
      "0.7154379084915453\n",
      "0.2\n",
      "0.8593047999472151\n",
      "0.6727075755798557\n",
      "0.7154379084915453\n",
      "0.3\n",
      "0.8593047999472151\n",
      "0.6727075755798557\n",
      "0.7154379084915453\n",
      "0.4\n",
      "0.8593047999472151\n",
      "0.6727075755798557\n",
      "0.7154379084915453\n",
      "0.5\n",
      "0.8593047999472151\n",
      "0.6727075755798557\n",
      "0.7154379084915453\n",
      "0.6\n",
      "0.8593047999472151\n",
      "0.6727075755798557\n",
      "0.7154379084915453\n",
      "0.7\n",
      "0.8593047999472151\n",
      "0.6727075755798557\n",
      "0.7154379084915453\n",
      "0.8\n",
      "0.8593047999472151\n",
      "0.6727075755798557\n",
      "0.7154379084915453\n",
      "0.9\n",
      "0.7060456787634214\n",
      "-5.060471576923093e-16\n",
      "0.0\n",
      "1.0\n",
      "0.7060456787634214\n",
      "-5.060471576923093e-16\n",
      "0.0\n"
     ]
    }
   ],
   "source": [
    "dataset_names = ['Chainlink']\n",
    "for ds_name in dataset_names:\n",
    "    print(ds_name)\n",
    "    results = []\n",
    "    data = pd.read_csv(join(path, ds_name+'.lrn'), sep='\\t', comment='%', header=None, index_col=0)\n",
    "    data = data.values\n",
    "    labels = pd.read_csv(join(path, ds_name+'.cls'), sep='\\t', comment='%', header=None, index_col=0).drop(2, axis=1)\n",
    "    k = len(labels.iloc[:,0].unique())\n",
    "    labels = labels.values.flatten()\n",
    "    best_FM = 0\n",
    "    best_FM_g = 0\n",
    "    best_AMI = 0\n",
    "    best_AMI_g = 0\n",
    "    best_Rand = 0\n",
    "    best_Rand_g = 0\n",
    "    for g in [x / 10 for x in range(1, 11)]:\n",
    "        print(g)\n",
    "        res = genie(data, g, k)\n",
    "        fm = metrics.fowlkes_mallows_score(labels, res)\n",
    "        print(fm)\n",
    "        if(fm > best_FM):\n",
    "            best_FM = fm\n",
    "            best_FM_g = g\n",
    "        ami = metrics.adjusted_mutual_info_score(labels, res)\n",
    "        print(ami)\n",
    "        if(ami > best_AMI):\n",
    "            best_AMI = ami\n",
    "            best_AMI_g = g\n",
    "        rand = metrics.adjusted_rand_score(labels, res)\n",
    "        print(rand)\n",
    "        if(rand > best_Rand):\n",
    "            best_Rand = rand\n",
    "            best_Rand_g = g\n",
    "    results.append(('genie', best_FM, best_AMI, best_Rand, best_FM_g, best_AMI_g, best_Rand_g))\n",
    "    for method in ['single', 'complete', 'average', 'weighted', 'centroid', 'median', 'ward']:\n",
    "        res = cut_tree(linkage(data, method), n_clusters=k).flatten()\n",
    "        results.append((method, metrics.fowlkes_mallows_score(labels, res), metrics.adjusted_mutual_info_score(labels, res), \n",
    "                       metrics.adjusted_rand_score(labels, res), None, None, None))\n",
    "    kmeans = KMeans(n_clusters=k).fit(data)\n",
    "    res = kmeans.labels_\n",
    "    results.append(('kmeans', metrics.fowlkes_mallows_score(labels, res), metrics.adjusted_mutual_info_score(labels, res), \n",
    "                       metrics.adjusted_rand_score(labels, res), None, None, None))\n",
    "    spectral = SpectralClustering(n_clusters=k).fit(data)\n",
    "    res = spectral.labels_\n",
    "    results.append(('spectral', metrics.fowlkes_mallows_score(labels, res), metrics.adjusted_mutual_info_score(labels, res), \n",
    "                       metrics.adjusted_rand_score(labels, res), None, None, None))\n",
    "    brc = Birch(branching_factor=50, n_clusters=k, threshold=0.5, compute_labels=True).fit(data)\n",
    "    res = brc.labels_\n",
    "    results.append(('birch', metrics.fowlkes_mallows_score(labels, res), metrics.adjusted_mutual_info_score(labels, res), \n",
    "                       metrics.adjusted_rand_score(labels, res), None, None, None))\n",
    "    df = pd.DataFrame(results)\n",
    "    df.to_csv(ds_name+'.csv')    "
   ]
  }
 ],
 "metadata": {
  "kernelspec": {
   "display_name": "Python 3",
   "language": "python",
   "name": "python3"
  },
  "language_info": {
   "codemirror_mode": {
    "name": "ipython",
    "version": 3
   },
   "file_extension": ".py",
   "mimetype": "text/x-python",
   "name": "python",
   "nbconvert_exporter": "python",
   "pygments_lexer": "ipython3",
   "version": "3.5.2"
  }
 },
 "nbformat": 4,
 "nbformat_minor": 2
}
