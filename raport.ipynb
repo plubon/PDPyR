{
 "cells": [
  {
   "cell_type": "code",
   "execution_count": 2,
   "metadata": {},
   "outputs": [],
   "source": [
    "import helpers"
   ]
  },
  {
   "cell_type": "markdown",
   "metadata": {},
   "source": [
    "# Hepta"
   ]
  },
  {
   "cell_type": "code",
   "execution_count": 4,
   "metadata": {},
   "outputs": [
    {
     "name": "stdout",
     "output_type": "stream",
     "text": [
      "      method   FM  AMI  Rand\n",
      "0      genie  1.0  1.0   1.0\n",
      "1     single  1.0  1.0   1.0\n",
      "2   complete  1.0  1.0   1.0\n",
      "3    average  1.0  1.0   1.0\n",
      "4   weighted  1.0  1.0   1.0\n",
      "5   centroid  1.0  1.0   1.0\n",
      "6     median  1.0  1.0   1.0\n",
      "7       ward  1.0  1.0   1.0\n",
      "8     kmeans  1.0  1.0   1.0\n",
      "9   spectral  1.0  1.0   1.0\n",
      "10     birch  1.0  1.0   1.0\n"
     ]
    }
   ],
   "source": [
    "helpers.print_results('Hepta.csv')"
   ]
  },
  {
   "cell_type": "code",
   "execution_count": 3,
   "metadata": {},
   "outputs": [
    {
     "name": "stdout",
     "output_type": "stream",
     "text": [
      "    Dla    0\n",
      "4    FM  0.1\n",
      "5   AMI  0.1\n",
      "6  Rand  0.1\n"
     ]
    }
   ],
   "source": [
    "helpers.print_best_g('Hepta.csv')"
   ]
  },
  {
   "cell_type": "markdown",
   "metadata": {},
   "source": [
    "# Atom"
   ]
  },
  {
   "cell_type": "code",
   "execution_count": 13,
   "metadata": {},
   "outputs": [
    {
     "data": {
      "text/html": [
       "<div>\n",
       "<style scoped>\n",
       "    .dataframe tbody tr th:only-of-type {\n",
       "        vertical-align: middle;\n",
       "    }\n",
       "\n",
       "    .dataframe tbody tr th {\n",
       "        vertical-align: top;\n",
       "    }\n",
       "\n",
       "    .dataframe thead th {\n",
       "        text-align: right;\n",
       "    }\n",
       "</style>\n",
       "<table border=\"1\" class=\"dataframe\">\n",
       "  <thead>\n",
       "    <tr style=\"text-align: right;\">\n",
       "      <th></th>\n",
       "      <th>method</th>\n",
       "      <th>FM</th>\n",
       "      <th>AMI</th>\n",
       "      <th>Rand</th>\n",
       "    </tr>\n",
       "  </thead>\n",
       "  <tbody>\n",
       "    <tr>\n",
       "      <th>0</th>\n",
       "      <td>genie</td>\n",
       "      <td>1.000000</td>\n",
       "      <td>1.000000</td>\n",
       "      <td>1.000000</td>\n",
       "    </tr>\n",
       "    <tr>\n",
       "      <th>1</th>\n",
       "      <td>single</td>\n",
       "      <td>1.000000</td>\n",
       "      <td>1.000000</td>\n",
       "      <td>1.000000</td>\n",
       "    </tr>\n",
       "    <tr>\n",
       "      <th>2</th>\n",
       "      <td>complete</td>\n",
       "      <td>0.646803</td>\n",
       "      <td>0.162066</td>\n",
       "      <td>0.083531</td>\n",
       "    </tr>\n",
       "    <tr>\n",
       "      <th>3</th>\n",
       "      <td>average</td>\n",
       "      <td>0.646284</td>\n",
       "      <td>0.178120</td>\n",
       "      <td>0.098626</td>\n",
       "    </tr>\n",
       "    <tr>\n",
       "      <th>4</th>\n",
       "      <td>weighted</td>\n",
       "      <td>0.661122</td>\n",
       "      <td>0.281565</td>\n",
       "      <td>0.213206</td>\n",
       "    </tr>\n",
       "    <tr>\n",
       "      <th>5</th>\n",
       "      <td>centroid</td>\n",
       "      <td>0.706664</td>\n",
       "      <td>0.000000</td>\n",
       "      <td>0.000000</td>\n",
       "    </tr>\n",
       "    <tr>\n",
       "      <th>6</th>\n",
       "      <td>median</td>\n",
       "      <td>0.706664</td>\n",
       "      <td>0.000000</td>\n",
       "      <td>0.000000</td>\n",
       "    </tr>\n",
       "    <tr>\n",
       "      <th>7</th>\n",
       "      <td>ward</td>\n",
       "      <td>0.646284</td>\n",
       "      <td>0.178120</td>\n",
       "      <td>0.098626</td>\n",
       "    </tr>\n",
       "    <tr>\n",
       "      <th>8</th>\n",
       "      <td>kmeans</td>\n",
       "      <td>0.655926</td>\n",
       "      <td>0.261021</td>\n",
       "      <td>0.188534</td>\n",
       "    </tr>\n",
       "    <tr>\n",
       "      <th>9</th>\n",
       "      <td>spectral</td>\n",
       "      <td>0.663300</td>\n",
       "      <td>0.289197</td>\n",
       "      <td>0.222554</td>\n",
       "    </tr>\n",
       "    <tr>\n",
       "      <th>10</th>\n",
       "      <td>birch</td>\n",
       "      <td>0.646284</td>\n",
       "      <td>0.178120</td>\n",
       "      <td>0.098626</td>\n",
       "    </tr>\n",
       "  </tbody>\n",
       "</table>\n",
       "</div>"
      ],
      "text/plain": [
       "      method        FM       AMI      Rand\n",
       "0      genie  1.000000  1.000000  1.000000\n",
       "1     single  1.000000  1.000000  1.000000\n",
       "2   complete  0.646803  0.162066  0.083531\n",
       "3    average  0.646284  0.178120  0.098626\n",
       "4   weighted  0.661122  0.281565  0.213206\n",
       "5   centroid  0.706664  0.000000  0.000000\n",
       "6     median  0.706664  0.000000  0.000000\n",
       "7       ward  0.646284  0.178120  0.098626\n",
       "8     kmeans  0.655926  0.261021  0.188534\n",
       "9   spectral  0.663300  0.289197  0.222554\n",
       "10     birch  0.646284  0.178120  0.098626"
      ]
     },
     "execution_count": 13,
     "metadata": {},
     "output_type": "execute_result"
    }
   ],
   "source": [
    "helpers.print_results('Atom.csv')"
   ]
  },
  {
   "cell_type": "code",
   "execution_count": 6,
   "metadata": {},
   "outputs": [
    {
     "name": "stdout",
     "output_type": "stream",
     "text": [
      "    Dla    0\n",
      "4    FM  0.1\n",
      "5   AMI  0.1\n",
      "6  Rand  0.1\n"
     ]
    }
   ],
   "source": [
    "helpers.print_best_g('Atom.csv')"
   ]
  },
  {
   "cell_type": "markdown",
   "metadata": {},
   "source": [
    "# Lsun"
   ]
  },
  {
   "cell_type": "code",
   "execution_count": 14,
   "metadata": {},
   "outputs": [
    {
     "data": {
      "text/html": [
       "<div>\n",
       "<style scoped>\n",
       "    .dataframe tbody tr th:only-of-type {\n",
       "        vertical-align: middle;\n",
       "    }\n",
       "\n",
       "    .dataframe tbody tr th {\n",
       "        vertical-align: top;\n",
       "    }\n",
       "\n",
       "    .dataframe thead th {\n",
       "        text-align: right;\n",
       "    }\n",
       "</style>\n",
       "<table border=\"1\" class=\"dataframe\">\n",
       "  <thead>\n",
       "    <tr style=\"text-align: right;\">\n",
       "      <th></th>\n",
       "      <th>method</th>\n",
       "      <th>FM</th>\n",
       "      <th>AMI</th>\n",
       "      <th>Rand</th>\n",
       "    </tr>\n",
       "  </thead>\n",
       "  <tbody>\n",
       "    <tr>\n",
       "      <th>0</th>\n",
       "      <td>genie</td>\n",
       "      <td>0.864527</td>\n",
       "      <td>0.757030</td>\n",
       "      <td>0.771964</td>\n",
       "    </tr>\n",
       "    <tr>\n",
       "      <th>1</th>\n",
       "      <td>single</td>\n",
       "      <td>1.000000</td>\n",
       "      <td>1.000000</td>\n",
       "      <td>1.000000</td>\n",
       "    </tr>\n",
       "    <tr>\n",
       "      <th>2</th>\n",
       "      <td>complete</td>\n",
       "      <td>0.627204</td>\n",
       "      <td>0.525998</td>\n",
       "      <td>0.404613</td>\n",
       "    </tr>\n",
       "    <tr>\n",
       "      <th>3</th>\n",
       "      <td>average</td>\n",
       "      <td>0.604377</td>\n",
       "      <td>0.486905</td>\n",
       "      <td>0.361089</td>\n",
       "    </tr>\n",
       "    <tr>\n",
       "      <th>4</th>\n",
       "      <td>weighted</td>\n",
       "      <td>0.574204</td>\n",
       "      <td>0.472101</td>\n",
       "      <td>0.306506</td>\n",
       "    </tr>\n",
       "    <tr>\n",
       "      <th>5</th>\n",
       "      <td>centroid</td>\n",
       "      <td>0.604377</td>\n",
       "      <td>0.486905</td>\n",
       "      <td>0.361089</td>\n",
       "    </tr>\n",
       "    <tr>\n",
       "      <th>6</th>\n",
       "      <td>median</td>\n",
       "      <td>0.575208</td>\n",
       "      <td>0.476175</td>\n",
       "      <td>0.311067</td>\n",
       "    </tr>\n",
       "    <tr>\n",
       "      <th>7</th>\n",
       "      <td>ward</td>\n",
       "      <td>0.605186</td>\n",
       "      <td>0.508965</td>\n",
       "      <td>0.368822</td>\n",
       "    </tr>\n",
       "    <tr>\n",
       "      <th>8</th>\n",
       "      <td>kmeans</td>\n",
       "      <td>0.642389</td>\n",
       "      <td>0.534036</td>\n",
       "      <td>0.435808</td>\n",
       "    </tr>\n",
       "    <tr>\n",
       "      <th>9</th>\n",
       "      <td>spectral</td>\n",
       "      <td>0.883057</td>\n",
       "      <td>0.789572</td>\n",
       "      <td>0.805024</td>\n",
       "    </tr>\n",
       "    <tr>\n",
       "      <th>10</th>\n",
       "      <td>birch</td>\n",
       "      <td>0.589824</td>\n",
       "      <td>0.488075</td>\n",
       "      <td>0.341054</td>\n",
       "    </tr>\n",
       "  </tbody>\n",
       "</table>\n",
       "</div>"
      ],
      "text/plain": [
       "      method        FM       AMI      Rand\n",
       "0      genie  0.864527  0.757030  0.771964\n",
       "1     single  1.000000  1.000000  1.000000\n",
       "2   complete  0.627204  0.525998  0.404613\n",
       "3    average  0.604377  0.486905  0.361089\n",
       "4   weighted  0.574204  0.472101  0.306506\n",
       "5   centroid  0.604377  0.486905  0.361089\n",
       "6     median  0.575208  0.476175  0.311067\n",
       "7       ward  0.605186  0.508965  0.368822\n",
       "8     kmeans  0.642389  0.534036  0.435808\n",
       "9   spectral  0.883057  0.789572  0.805024\n",
       "10     birch  0.589824  0.488075  0.341054"
      ]
     },
     "execution_count": 14,
     "metadata": {},
     "output_type": "execute_result"
    }
   ],
   "source": [
    "helpers.print_results('Lsun.csv')"
   ]
  },
  {
   "cell_type": "code",
   "execution_count": 5,
   "metadata": {},
   "outputs": [
    {
     "name": "stdout",
     "output_type": "stream",
     "text": [
      "    Dla    0\n",
      "4    FM  0.1\n",
      "5   AMI  0.1\n",
      "6  Rand  0.1\n"
     ]
    }
   ],
   "source": [
    "helpers.print_best_g('Lsun.csv')"
   ]
  },
  {
   "cell_type": "markdown",
   "metadata": {},
   "source": [
    "# TwoDiamonds"
   ]
  },
  {
   "cell_type": "code",
   "execution_count": 15,
   "metadata": {},
   "outputs": [
    {
     "data": {
      "text/html": [
       "<div>\n",
       "<style scoped>\n",
       "    .dataframe tbody tr th:only-of-type {\n",
       "        vertical-align: middle;\n",
       "    }\n",
       "\n",
       "    .dataframe tbody tr th {\n",
       "        vertical-align: top;\n",
       "    }\n",
       "\n",
       "    .dataframe thead th {\n",
       "        text-align: right;\n",
       "    }\n",
       "</style>\n",
       "<table border=\"1\" class=\"dataframe\">\n",
       "  <thead>\n",
       "    <tr style=\"text-align: right;\">\n",
       "      <th></th>\n",
       "      <th>method</th>\n",
       "      <th>FM</th>\n",
       "      <th>AMI</th>\n",
       "      <th>Rand</th>\n",
       "    </tr>\n",
       "  </thead>\n",
       "  <tbody>\n",
       "    <tr>\n",
       "      <th>0</th>\n",
       "      <td>genie</td>\n",
       "      <td>0.970389</td>\n",
       "      <td>9.020663e-01</td>\n",
       "      <td>0.940826</td>\n",
       "    </tr>\n",
       "    <tr>\n",
       "      <th>1</th>\n",
       "      <td>single</td>\n",
       "      <td>0.705780</td>\n",
       "      <td>-1.766911e-15</td>\n",
       "      <td>0.000000</td>\n",
       "    </tr>\n",
       "    <tr>\n",
       "      <th>2</th>\n",
       "      <td>complete</td>\n",
       "      <td>0.982612</td>\n",
       "      <td>9.361395e-01</td>\n",
       "      <td>0.965263</td>\n",
       "    </tr>\n",
       "    <tr>\n",
       "      <th>3</th>\n",
       "      <td>average</td>\n",
       "      <td>0.997497</td>\n",
       "      <td>9.873782e-01</td>\n",
       "      <td>0.995000</td>\n",
       "    </tr>\n",
       "    <tr>\n",
       "      <th>4</th>\n",
       "      <td>weighted</td>\n",
       "      <td>0.997497</td>\n",
       "      <td>9.873782e-01</td>\n",
       "      <td>0.995000</td>\n",
       "    </tr>\n",
       "    <tr>\n",
       "      <th>5</th>\n",
       "      <td>centroid</td>\n",
       "      <td>0.997497</td>\n",
       "      <td>9.873782e-01</td>\n",
       "      <td>0.995000</td>\n",
       "    </tr>\n",
       "    <tr>\n",
       "      <th>6</th>\n",
       "      <td>median</td>\n",
       "      <td>0.992510</td>\n",
       "      <td>9.680700e-01</td>\n",
       "      <td>0.985038</td>\n",
       "    </tr>\n",
       "    <tr>\n",
       "      <th>7</th>\n",
       "      <td>ward</td>\n",
       "      <td>1.000000</td>\n",
       "      <td>1.000000e+00</td>\n",
       "      <td>1.000000</td>\n",
       "    </tr>\n",
       "    <tr>\n",
       "      <th>8</th>\n",
       "      <td>kmeans</td>\n",
       "      <td>1.000000</td>\n",
       "      <td>1.000000e+00</td>\n",
       "      <td>1.000000</td>\n",
       "    </tr>\n",
       "    <tr>\n",
       "      <th>9</th>\n",
       "      <td>spectral</td>\n",
       "      <td>1.000000</td>\n",
       "      <td>1.000000e+00</td>\n",
       "      <td>1.000000</td>\n",
       "    </tr>\n",
       "    <tr>\n",
       "      <th>10</th>\n",
       "      <td>birch</td>\n",
       "      <td>0.992510</td>\n",
       "      <td>9.680700e-01</td>\n",
       "      <td>0.985038</td>\n",
       "    </tr>\n",
       "  </tbody>\n",
       "</table>\n",
       "</div>"
      ],
      "text/plain": [
       "      method        FM           AMI      Rand\n",
       "0      genie  0.970389  9.020663e-01  0.940826\n",
       "1     single  0.705780 -1.766911e-15  0.000000\n",
       "2   complete  0.982612  9.361395e-01  0.965263\n",
       "3    average  0.997497  9.873782e-01  0.995000\n",
       "4   weighted  0.997497  9.873782e-01  0.995000\n",
       "5   centroid  0.997497  9.873782e-01  0.995000\n",
       "6     median  0.992510  9.680700e-01  0.985038\n",
       "7       ward  1.000000  1.000000e+00  1.000000\n",
       "8     kmeans  1.000000  1.000000e+00  1.000000\n",
       "9   spectral  1.000000  1.000000e+00  1.000000\n",
       "10     birch  0.992510  9.680700e-01  0.985038"
      ]
     },
     "execution_count": 15,
     "metadata": {},
     "output_type": "execute_result"
    }
   ],
   "source": [
    "helpers.print_results('TwoDiamonds.csv')"
   ]
  },
  {
   "cell_type": "code",
   "execution_count": 4,
   "metadata": {},
   "outputs": [
    {
     "name": "stdout",
     "output_type": "stream",
     "text": [
      "    Dla    0\n",
      "4    FM  0.1\n",
      "5   AMI  0.1\n",
      "6  Rand  0.1\n"
     ]
    }
   ],
   "source": [
    "helpers.print_best_g('TwoDiamonds.csv')"
   ]
  },
  {
   "cell_type": "code",
   "execution_count": null,
   "metadata": {},
   "outputs": [],
   "source": []
  }
 ],
 "metadata": {
  "kernelspec": {
   "display_name": "Python 3",
   "language": "python",
   "name": "python3"
  },
  "language_info": {
   "codemirror_mode": {
    "name": "ipython",
    "version": 3
   },
   "file_extension": ".py",
   "mimetype": "text/x-python",
   "name": "python",
   "nbconvert_exporter": "python",
   "pygments_lexer": "ipython3",
   "version": "3.5.2"
  }
 },
 "nbformat": 4,
 "nbformat_minor": 2
}
